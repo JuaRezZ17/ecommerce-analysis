{
 "cells": [
  {
   "cell_type": "code",
   "execution_count": null,
   "id": "2a8e9225",
   "metadata": {
    "vscode": {
     "languageId": "plaintext"
    }
   },
   "outputs": [],
   "source": [
    "import pandas as pd\n",
    "import numpy as np\n",
    "import matplotlib.pyplot as plt\n",
    "import seaborn as sns\n",
    "import os\n",
    "from datetime import datetime\n",
    "\n",
    "DATA_PATH = '../data/online_retail.csv'\n",
    "IMG_DIR = '../images'\n",
    "os.makedirs(IMG_DIR, exist_ok=True)\n",
    "\n",
    "pd.set_option('display.max_columns', 50)\n",
    "print('pandas', pd.__version__)"
   ]
  },
  {
   "cell_type": "code",
   "execution_count": null,
   "id": "045510c4",
   "metadata": {
    "vscode": {
     "languageId": "plaintext"
    }
   },
   "outputs": [],
   "source": [
    "# Carga de datos\n",
    "df = pd.read_csv(DATA_PATH, parse_dates=['InvoiceDate'])\n",
    "df.head()"
   ]
  },
  {
   "cell_type": "code",
   "execution_count": null,
   "id": "f30c4c96",
   "metadata": {
    "vscode": {
     "languageId": "plaintext"
    }
   },
   "outputs": [],
   "source": [
    "df.info()"
   ]
  },
  {
   "cell_type": "code",
   "execution_count": null,
   "id": "eaf90e68",
   "metadata": {
    "vscode": {
     "languageId": "plaintext"
    }
   },
   "outputs": [],
   "source": [
    "df.describe(include='all').T"
   ]
  },
  {
   "cell_type": "code",
   "execution_count": null,
   "id": "199f658e",
   "metadata": {
    "vscode": {
     "languageId": "plaintext"
    }
   },
   "outputs": [],
   "source": [
    "# Limpieza de datos\n",
    "before = len(df)\n",
    "df.drop_duplicates(inplace=True)\n",
    "after = len(df)\n",
    "print(f\"Filas eliminadas por duplicados: {before - after}\")"
   ]
  },
  {
   "cell_type": "code",
   "execution_count": null,
   "id": "3c36b7e9",
   "metadata": {
    "vscode": {
     "languageId": "plaintext"
    }
   },
   "outputs": [],
   "source": [
    "df['Description'] = df['Description'].fillna('Unknown')\n",
    "before = len(df)\n",
    "df = df.dropna(subset=['CustomerID'])\n",
    "after = len(df)\n",
    "print(f\"Filas eliminadas por CustomerID nulo: {before - after}\")\n",
    "df['CustomerID'] = df['CustomerID'].astype(int)"
   ]
  },
  {
   "cell_type": "code",
   "execution_count": null,
   "id": "44d6ef36",
   "metadata": {
    "vscode": {
     "languageId": "plaintext"
    }
   },
   "outputs": [],
   "source": [
    "invalid_price = (df['UnitPrice'] <= 0).sum()\n",
    "print('Filas con precio inválido:', invalid_price)\n",
    "df = df[df['UnitPrice'] > 0]"
   ]
  },
  {
   "cell_type": "code",
   "execution_count": null,
   "id": "a944b129",
   "metadata": {
    "vscode": {
     "languageId": "plaintext"
    }
   },
   "outputs": [],
   "source": [
    "df['Year'] = df['InvoiceDate'].dt.year\n",
    "df['Month'] = df['InvoiceDate'].dt.month\n",
    "df['DayOfWeek'] = df['InvoiceDate'].dt.day_name()\n",
    "df['Hour'] = df['InvoiceDate'].dt.hour\n",
    "df['Revenue'] = df['Quantity'] * df['UnitPrice']\n",
    "df.head()"
   ]
  }
 ],
 "metadata": {
  "language_info": {
   "name": "python"
  }
 },
 "nbformat": 4,
 "nbformat_minor": 5
}
